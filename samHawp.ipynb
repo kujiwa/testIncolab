{
  "nbformat": 4,
  "nbformat_minor": 0,
  "metadata": {
    "colab": {
      "provenance": [],
      "authorship_tag": "ABX9TyOoJO1Af6c41xMvGNLPGgV8",
      "include_colab_link": true
    },
    "kernelspec": {
      "name": "python3",
      "display_name": "Python 3"
    },
    "language_info": {
      "name": "python"
    }
  },
  "cells": [
    {
      "cell_type": "markdown",
      "metadata": {
        "id": "view-in-github",
        "colab_type": "text"
      },
      "source": [
        "<a href=\"https://colab.research.google.com/github/kujiwa/testIncolab/blob/main/samHawp.ipynb\" target=\"_parent\"><img src=\"https://colab.research.google.com/assets/colab-badge.svg\" alt=\"Open In Colab\"/></a>"
      ]
    },
    {
      "cell_type": "markdown",
      "source": [
        "samHawp"
      ],
      "metadata": {
        "id": "rvo1KndIwvED"
      }
    },
    {
      "cell_type": "code",
      "source": [
        "!git clone https://github.com/kujiwa/testIncolab.git"
      ],
      "metadata": {
        "colab": {
          "base_uri": "https://localhost:8080/"
        },
        "id": "KEEMVIgEwzOY",
        "outputId": "25908f3c-d58d-43c6-ca60-7f40fff59907"
      },
      "execution_count": 1,
      "outputs": [
        {
          "output_type": "stream",
          "name": "stdout",
          "text": [
            "Cloning into 'testIncolab'...\n",
            "remote: Enumerating objects: 83, done.\u001b[K\n",
            "remote: Counting objects: 100% (83/83), done.\u001b[K\n",
            "remote: Compressing objects: 100% (80/80), done.\u001b[K\n",
            "remote: Total 83 (delta 25), reused 0 (delta 0), pack-reused 0\u001b[K\n",
            "Receiving objects: 100% (83/83), 37.50 KiB | 4.17 MiB/s, done.\n",
            "Resolving deltas: 100% (25/25), done.\n"
          ]
        }
      ]
    },
    {
      "cell_type": "code",
      "source": [
        "!apt install ninja-build"
      ],
      "metadata": {
        "id": "r9n9qCGBUo_d"
      },
      "execution_count": null,
      "outputs": []
    },
    {
      "cell_type": "code",
      "source": [
        "!python /content/testIncolab/amp_extensions/afm/yjh_sizeTest.py"
      ],
      "metadata": {
        "colab": {
          "base_uri": "https://localhost:8080/"
        },
        "id": "_QNg_gO0xOhl",
        "outputId": "aeb8ed82-48dd-4e3b-9de5-0c8c5cd3361c"
      },
      "execution_count": 5,
      "outputs": [
        {
          "output_type": "stream",
          "name": "stdout",
          "text": [
            "tensor([[0., 0., 1., 1.],\n",
            "        [1., 4., 2., 3.],\n",
            "        [4., 4., 8., 7.]], device='cuda:0')\n",
            "<module '_C' from '/root/.cache/torch_extensions/py310_cu118/_C/_C.so'>\n",
            "tensor([[[ 0.0000e+00, -5.0000e-01, -1.0000e+00,  ..., -5.1600e+00,\n",
            "          -6.0000e+00, -7.0000e+00],\n",
            "         [ 5.0000e-01, -4.7684e-07, -1.0000e+00,  ..., -5.0000e+00,\n",
            "          -6.0000e+00, -7.0000e+00],\n",
            "         [ 1.0000e+00,  0.0000e+00,  0.0000e+00,  ..., -5.0000e+00,\n",
            "          -6.0000e+00, -7.0000e+00],\n",
            "         ...,\n",
            "         [ 1.0000e+00,  0.0000e+00,  5.0400e+00,  ..., -5.0000e+00,\n",
            "          -6.0000e+00, -7.0000e+00],\n",
            "         [ 1.0000e+00,  5.8800e+00,  5.5200e+00,  ..., -5.0000e+00,\n",
            "          -6.0000e+00, -7.0000e+00],\n",
            "         [ 1.0000e+00,  6.3600e+00,  6.0000e+00,  ..., -5.0000e+00,\n",
            "          -6.0000e+00, -7.0000e+00]],\n",
            "\n",
            "        [[ 0.0000e+00,  5.0000e-01,  1.0000e+00,  ...,  6.8800e+00,\n",
            "           7.0000e+00,  7.0000e+00],\n",
            "         [-5.0000e-01, -4.7684e-07,  0.0000e+00,  ...,  6.0000e+00,\n",
            "           6.0000e+00,  6.0000e+00],\n",
            "         [-1.0000e+00, -1.0000e+00,  1.0000e+00,  ...,  5.0000e+00,\n",
            "           5.0000e+00,  5.0000e+00],\n",
            "         ...,\n",
            "         [-9.0000e+00, -9.0000e+00, -6.7200e+00,  ..., -6.0000e+00,\n",
            "          -6.0000e+00, -6.0000e+00],\n",
            "         [-1.0000e+01, -7.8400e+00, -7.3600e+00,  ..., -7.0000e+00,\n",
            "          -7.0000e+00, -7.0000e+00],\n",
            "         [-1.1000e+01, -8.4800e+00, -8.0000e+00,  ..., -8.0000e+00,\n",
            "          -8.0000e+00, -8.0000e+00]],\n",
            "\n",
            "        [[ 0.0000e+00,  0.0000e+00, -1.0000e+00,  ..., -5.0000e+00,\n",
            "          -6.0000e+00, -7.0000e+00],\n",
            "         [ 1.0000e+00,  0.0000e+00, -1.0000e+00,  ..., -5.0000e+00,\n",
            "          -6.0000e+00, -7.0000e+00],\n",
            "         [ 1.0000e+00,  0.0000e+00,  0.0000e+00,  ..., -5.0000e+00,\n",
            "          -6.0000e+00, -7.0000e+00],\n",
            "         ...,\n",
            "         [ 1.0000e+00,  0.0000e+00,  6.0000e+00,  ..., -5.0000e+00,\n",
            "          -6.0000e+00, -7.0000e+00],\n",
            "         [ 1.0000e+00,  7.0000e+00,  6.0000e+00,  ..., -5.0000e+00,\n",
            "          -6.0000e+00, -7.0000e+00],\n",
            "         [ 1.0000e+00,  7.0000e+00,  6.0000e+00,  ..., -5.0000e+00,\n",
            "          -6.0000e+00, -7.0000e+00]],\n",
            "\n",
            "        [[ 0.0000e+00,  1.0000e+00,  1.0000e+00,  ...,  7.0000e+00,\n",
            "           7.0000e+00,  7.0000e+00],\n",
            "         [ 0.0000e+00,  0.0000e+00,  0.0000e+00,  ...,  6.0000e+00,\n",
            "           6.0000e+00,  6.0000e+00],\n",
            "         [-1.0000e+00, -1.0000e+00,  1.0000e+00,  ...,  5.0000e+00,\n",
            "           5.0000e+00,  5.0000e+00],\n",
            "         ...,\n",
            "         [-9.0000e+00, -9.0000e+00, -6.0000e+00,  ..., -6.0000e+00,\n",
            "          -6.0000e+00, -6.0000e+00],\n",
            "         [-1.0000e+01, -7.0000e+00, -7.0000e+00,  ..., -7.0000e+00,\n",
            "          -7.0000e+00, -7.0000e+00],\n",
            "         [-1.1000e+01, -8.0000e+00, -8.0000e+00,  ..., -8.0000e+00,\n",
            "          -8.0000e+00, -8.0000e+00]],\n",
            "\n",
            "        [[ 1.0000e+00, -1.0000e+00, -2.0000e+00,  ..., -9.0000e+00,\n",
            "          -1.0000e+01, -1.1000e+01],\n",
            "         [ 0.0000e+00, -1.0000e+00, -2.0000e+00,  ..., -9.0000e+00,\n",
            "          -1.0000e+01, -1.1000e+01],\n",
            "         [ 0.0000e+00, -1.0000e+00, -1.0000e+00,  ..., -9.0000e+00,\n",
            "          -1.0000e+01, -1.1000e+01],\n",
            "         ...,\n",
            "         [ 2.0000e+00,  1.0000e+00,  2.0000e+00,  ..., -9.0000e+00,\n",
            "          -1.0000e+01, -1.1000e+01],\n",
            "         [ 2.0000e+00,  3.0000e+00,  2.0000e+00,  ..., -9.0000e+00,\n",
            "          -1.0000e+01, -1.1000e+01],\n",
            "         [ 2.0000e+00,  3.0000e+00,  2.0000e+00,  ..., -9.0000e+00,\n",
            "          -1.0000e+01, -1.1000e+01]],\n",
            "\n",
            "        [[ 1.0000e+00,  0.0000e+00,  0.0000e+00,  ...,  4.0000e+00,\n",
            "           4.0000e+00,  4.0000e+00],\n",
            "         [-1.0000e+00, -1.0000e+00, -1.0000e+00,  ...,  3.0000e+00,\n",
            "           3.0000e+00,  3.0000e+00],\n",
            "         [-2.0000e+00, -2.0000e+00,  2.0000e+00,  ...,  2.0000e+00,\n",
            "           2.0000e+00,  2.0000e+00],\n",
            "         ...,\n",
            "         [-1.0000e+01, -1.0000e+01, -9.0000e+00,  ..., -9.0000e+00,\n",
            "          -9.0000e+00, -9.0000e+00],\n",
            "         [-1.1000e+01, -1.0000e+01, -1.0000e+01,  ..., -1.0000e+01,\n",
            "          -1.0000e+01, -1.0000e+01],\n",
            "         [-1.2000e+01, -1.1000e+01, -1.1000e+01,  ..., -1.1000e+01,\n",
            "          -1.1000e+01, -1.1000e+01]]], device='cuda:0')\n",
            "tensor([[[ True,  True,  True, False, False, False, False, False, False, False,\n",
            "          False, False, False, False, False, False],\n",
            "         [ True,  True, False, False, False, False, False, False, False, False,\n",
            "          False, False, False, False, False, False],\n",
            "         [ True, False, False, False, False, False, False, False, False, False,\n",
            "          False, False, False, False, False, False],\n",
            "         [False, False, False, False, False, False, False, False, False, False,\n",
            "          False, False, False, False, False, False],\n",
            "         [False, False, False, False, False, False, False, False, False, False,\n",
            "          False, False, False, False, False, False],\n",
            "         [False, False, False, False, False, False, False, False, False, False,\n",
            "          False, False, False, False, False, False],\n",
            "         [False, False, False, False, False, False, False, False, False, False,\n",
            "          False, False, False, False, False, False],\n",
            "         [False, False, False, False, False, False, False, False, False, False,\n",
            "          False, False, False, False, False, False],\n",
            "         [False, False, False, False, False, False, False, False, False, False,\n",
            "          False, False, False, False, False, False],\n",
            "         [False, False, False, False, False, False, False, False, False, False,\n",
            "          False, False, False, False, False, False],\n",
            "         [False, False, False, False, False, False, False, False, False, False,\n",
            "          False, False, False, False, False, False],\n",
            "         [False, False, False, False, False, False, False, False, False, False,\n",
            "          False, False, False, False, False, False],\n",
            "         [False, False, False, False, False, False, False, False, False, False,\n",
            "          False, False, False, False, False, False],\n",
            "         [False, False, False, False, False, False, False, False, False, False,\n",
            "          False, False, False, False, False, False],\n",
            "         [False, False, False, False, False, False, False, False, False, False,\n",
            "          False, False, False, False, False, False],\n",
            "         [False, False, False, False, False, False, False, False, False, False,\n",
            "          False, False, False, False, False, False]],\n",
            "\n",
            "        [[False, False, False, False, False, False, False, False, False, False,\n",
            "          False, False, False, False, False, False],\n",
            "         [False, False, False, False, False, False, False, False, False, False,\n",
            "          False, False, False, False, False, False],\n",
            "         [False, False, False, False, False, False, False, False, False, False,\n",
            "          False, False, False, False, False, False],\n",
            "         [ True,  True,  True, False, False, False, False, False, False, False,\n",
            "          False, False, False, False, False, False],\n",
            "         [False,  True,  True, False, False, False, False, False, False, False,\n",
            "          False, False, False, False, False, False],\n",
            "         [False, False,  True, False, False, False, False, False, False, False,\n",
            "          False, False, False, False, False, False],\n",
            "         [False, False, False, False, False, False, False, False, False, False,\n",
            "          False, False, False, False, False, False],\n",
            "         [False, False, False, False, False, False, False, False, False, False,\n",
            "          False, False, False, False, False, False],\n",
            "         [False, False, False, False, False, False, False, False, False, False,\n",
            "          False, False, False, False, False, False],\n",
            "         [False, False, False, False, False, False, False, False, False, False,\n",
            "          False, False, False, False, False, False],\n",
            "         [False, False, False, False, False, False, False, False, False, False,\n",
            "          False, False, False, False, False, False],\n",
            "         [False, False, False, False, False, False, False, False, False, False,\n",
            "          False, False, False, False, False, False],\n",
            "         [False, False, False, False, False, False, False, False, False, False,\n",
            "          False, False, False, False, False, False],\n",
            "         [False, False, False, False, False, False, False, False, False, False,\n",
            "          False, False, False, False, False, False],\n",
            "         [False, False, False, False, False, False, False, False, False, False,\n",
            "          False, False, False, False, False, False],\n",
            "         [False, False, False, False, False, False, False, False, False, False,\n",
            "          False, False, False, False, False, False]],\n",
            "\n",
            "        [[False, False, False, False, False, False, False,  True,  True,  True,\n",
            "           True,  True,  True,  True, False, False],\n",
            "         [False, False, False, False, False, False, False,  True,  True,  True,\n",
            "           True,  True,  True, False, False, False],\n",
            "         [False, False, False, False, False, False,  True,  True,  True,  True,\n",
            "           True,  True, False, False, False, False],\n",
            "         [False, False, False, False, False,  True,  True,  True,  True,  True,\n",
            "           True,  True, False, False, False, False],\n",
            "         [False, False, False, False,  True,  True,  True,  True,  True,  True,\n",
            "           True, False, False, False, False, False],\n",
            "         [False, False, False, False,  True,  True,  True,  True,  True,  True,\n",
            "          False, False, False, False, False, False],\n",
            "         [False, False, False,  True,  True,  True,  True,  True,  True, False,\n",
            "          False, False, False, False, False, False],\n",
            "         [False, False, False,  True,  True,  True,  True,  True,  True, False,\n",
            "          False, False, False, False, False, False],\n",
            "         [False, False, False,  True,  True,  True,  True,  True, False, False,\n",
            "          False, False, False, False, False, False],\n",
            "         [False, False, False,  True,  True,  True,  True, False, False, False,\n",
            "          False, False, False, False, False, False],\n",
            "         [False, False,  True,  True,  True,  True, False, False, False, False,\n",
            "          False, False, False, False, False, False],\n",
            "         [False, False,  True,  True,  True,  True, False, False, False, False,\n",
            "          False, False, False, False, False, False],\n",
            "         [False, False,  True,  True,  True, False, False, False, False, False,\n",
            "          False, False, False, False, False, False],\n",
            "         [False, False,  True,  True, False, False, False, False, False, False,\n",
            "          False, False, False, False, False, False],\n",
            "         [False,  True,  True, False, False, False, False, False, False, False,\n",
            "          False, False, False, False, False, False],\n",
            "         [False,  True,  True, False, False, False, False, False, False, False,\n",
            "          False, False, False, False, False, False]]], device='cuda:0')\n",
            "torch.Size([6, 16, 16])\n",
            "torch.Size([3, 16, 16])\n"
          ]
        }
      ]
    },
    {
      "cell_type": "markdown",
      "source": [
        "hawp环境配置\n",
        "1.记得下载ckpt文件hawpv3-imagenet-03a84.pth"
      ],
      "metadata": {
        "id": "p8ZjNpQarJEW"
      }
    },
    {
      "cell_type": "code",
      "execution_count": null,
      "metadata": {
        "colab": {
          "base_uri": "https://localhost:8080/"
        },
        "id": "eTrashsPqnJP",
        "outputId": "425e5e29-56da-4eb2-ee1a-24051b4a61ec"
      },
      "outputs": [
        {
          "output_type": "stream",
          "name": "stdout",
          "text": [
            "Cloning into 'hawp'...\n",
            "remote: Enumerating objects: 982, done.\u001b[K\n",
            "remote: Counting objects: 100% (705/705), done.\u001b[K\n",
            "remote: Compressing objects: 100% (465/465), done.\u001b[K\n",
            "remote: Total 982 (delta 293), reused 591 (delta 227), pack-reused 277\u001b[K\n",
            "Receiving objects: 100% (982/982), 6.80 MiB | 18.28 MiB/s, done.\n",
            "Resolving deltas: 100% (393/393), done.\n"
          ]
        }
      ],
      "source": [
        "!git clone https://github.com/cherubicXN/hawp.git"
      ]
    },
    {
      "cell_type": "code",
      "source": [
        "!apt install ninja-build"
      ],
      "metadata": {
        "colab": {
          "base_uri": "https://localhost:8080/"
        },
        "id": "Ly4ncF5DrQYT",
        "outputId": "3870e091-af2d-4b1d-c32c-3226d860fb0d"
      },
      "execution_count": 3,
      "outputs": [
        {
          "output_type": "stream",
          "name": "stdout",
          "text": [
            "Reading package lists... Done\n",
            "Building dependency tree... Done\n",
            "Reading state information... Done\n",
            "The following NEW packages will be installed:\n",
            "  ninja-build\n",
            "0 upgraded, 1 newly installed, 0 to remove and 18 not upgraded.\n",
            "Need to get 111 kB of archives.\n",
            "After this operation, 358 kB of additional disk space will be used.\n",
            "Get:1 http://archive.ubuntu.com/ubuntu jammy/universe amd64 ninja-build amd64 1.10.1-1 [111 kB]\n",
            "Fetched 111 kB in 0s (1,336 kB/s)\n",
            "Selecting previously unselected package ninja-build.\n",
            "(Reading database ... 120875 files and directories currently installed.)\n",
            "Preparing to unpack .../ninja-build_1.10.1-1_amd64.deb ...\n",
            "Unpacking ninja-build (1.10.1-1) ...\n",
            "Setting up ninja-build (1.10.1-1) ...\n",
            "Processing triggers for man-db (2.10.2-1) ...\n"
          ]
        }
      ]
    },
    {
      "cell_type": "code",
      "source": [
        "!cd hawp;pip install -e .;pip install -r requirement.;python -c \"import torch; print(torch.cuda.is_available())\""
      ],
      "metadata": {
        "colab": {
          "base_uri": "https://localhost:8080/"
        },
        "id": "hkQkIzs6rg0e",
        "outputId": "d82dce76-f2ca-49d5-8373-edf27a7c4d82"
      },
      "execution_count": null,
      "outputs": [
        {
          "output_type": "stream",
          "name": "stdout",
          "text": [
            "Obtaining file:///content/hawp\n",
            "  Preparing metadata (setup.py) ... \u001b[?25l\u001b[?25hdone\n",
            "Requirement already satisfied: torch in /usr/local/lib/python3.10/dist-packages (from hawp==1.0) (2.0.1+cu118)\n",
            "Requirement already satisfied: torchvision in /usr/local/lib/python3.10/dist-packages (from hawp==1.0) (0.15.2+cu118)\n",
            "Requirement already satisfied: opencv-python in /usr/local/lib/python3.10/dist-packages (from hawp==1.0) (4.8.0.76)\n",
            "Requirement already satisfied: cython in /usr/local/lib/python3.10/dist-packages (from hawp==1.0) (3.0.3)\n",
            "Requirement already satisfied: matplotlib in /usr/local/lib/python3.10/dist-packages (from hawp==1.0) (3.7.1)\n",
            "Collecting yacs (from hawp==1.0)\n",
            "  Downloading yacs-0.1.8-py3-none-any.whl (14 kB)\n",
            "Requirement already satisfied: scikit-image in /usr/local/lib/python3.10/dist-packages (from hawp==1.0) (0.19.3)\n",
            "Requirement already satisfied: tqdm in /usr/local/lib/python3.10/dist-packages (from hawp==1.0) (4.66.1)\n",
            "Collecting python-json-logger (from hawp==1.0)\n",
            "  Downloading python_json_logger-2.0.7-py3-none-any.whl (8.1 kB)\n",
            "Requirement already satisfied: h5py in /usr/local/lib/python3.10/dist-packages (from hawp==1.0) (3.9.0)\n",
            "Requirement already satisfied: shapely in /usr/local/lib/python3.10/dist-packages (from hawp==1.0) (2.0.1)\n",
            "Requirement already satisfied: seaborn in /usr/local/lib/python3.10/dist-packages (from hawp==1.0) (0.12.2)\n",
            "Requirement already satisfied: easydict in /usr/local/lib/python3.10/dist-packages (from hawp==1.0) (1.10)\n",
            "Requirement already satisfied: numpy>=1.17.3 in /usr/local/lib/python3.10/dist-packages (from h5py->hawp==1.0) (1.23.5)\n",
            "Requirement already satisfied: contourpy>=1.0.1 in /usr/local/lib/python3.10/dist-packages (from matplotlib->hawp==1.0) (1.1.1)\n",
            "Requirement already satisfied: cycler>=0.10 in /usr/local/lib/python3.10/dist-packages (from matplotlib->hawp==1.0) (0.12.1)\n",
            "Requirement already satisfied: fonttools>=4.22.0 in /usr/local/lib/python3.10/dist-packages (from matplotlib->hawp==1.0) (4.43.1)\n",
            "Requirement already satisfied: kiwisolver>=1.0.1 in /usr/local/lib/python3.10/dist-packages (from matplotlib->hawp==1.0) (1.4.5)\n",
            "Requirement already satisfied: packaging>=20.0 in /usr/local/lib/python3.10/dist-packages (from matplotlib->hawp==1.0) (23.2)\n",
            "Requirement already satisfied: pillow>=6.2.0 in /usr/local/lib/python3.10/dist-packages (from matplotlib->hawp==1.0) (9.4.0)\n",
            "Requirement already satisfied: pyparsing>=2.3.1 in /usr/local/lib/python3.10/dist-packages (from matplotlib->hawp==1.0) (3.1.1)\n",
            "Requirement already satisfied: python-dateutil>=2.7 in /usr/local/lib/python3.10/dist-packages (from matplotlib->hawp==1.0) (2.8.2)\n",
            "Requirement already satisfied: scipy>=1.4.1 in /usr/local/lib/python3.10/dist-packages (from scikit-image->hawp==1.0) (1.11.3)\n",
            "Requirement already satisfied: networkx>=2.2 in /usr/local/lib/python3.10/dist-packages (from scikit-image->hawp==1.0) (3.1)\n",
            "Requirement already satisfied: imageio>=2.4.1 in /usr/local/lib/python3.10/dist-packages (from scikit-image->hawp==1.0) (2.31.5)\n",
            "Requirement already satisfied: tifffile>=2019.7.26 in /usr/local/lib/python3.10/dist-packages (from scikit-image->hawp==1.0) (2023.9.26)\n",
            "Requirement already satisfied: PyWavelets>=1.1.1 in /usr/local/lib/python3.10/dist-packages (from scikit-image->hawp==1.0) (1.4.1)\n",
            "Requirement already satisfied: pandas>=0.25 in /usr/local/lib/python3.10/dist-packages (from seaborn->hawp==1.0) (1.5.3)\n",
            "Requirement already satisfied: filelock in /usr/local/lib/python3.10/dist-packages (from torch->hawp==1.0) (3.12.4)\n",
            "Requirement already satisfied: typing-extensions in /usr/local/lib/python3.10/dist-packages (from torch->hawp==1.0) (4.5.0)\n",
            "Requirement already satisfied: sympy in /usr/local/lib/python3.10/dist-packages (from torch->hawp==1.0) (1.12)\n",
            "Requirement already satisfied: jinja2 in /usr/local/lib/python3.10/dist-packages (from torch->hawp==1.0) (3.1.2)\n",
            "Requirement already satisfied: triton==2.0.0 in /usr/local/lib/python3.10/dist-packages (from torch->hawp==1.0) (2.0.0)\n",
            "Requirement already satisfied: cmake in /usr/local/lib/python3.10/dist-packages (from triton==2.0.0->torch->hawp==1.0) (3.27.6)\n",
            "Requirement already satisfied: lit in /usr/local/lib/python3.10/dist-packages (from triton==2.0.0->torch->hawp==1.0) (17.0.2)\n",
            "Requirement already satisfied: requests in /usr/local/lib/python3.10/dist-packages (from torchvision->hawp==1.0) (2.31.0)\n",
            "Requirement already satisfied: PyYAML in /usr/local/lib/python3.10/dist-packages (from yacs->hawp==1.0) (6.0.1)\n",
            "Requirement already satisfied: pytz>=2020.1 in /usr/local/lib/python3.10/dist-packages (from pandas>=0.25->seaborn->hawp==1.0) (2023.3.post1)\n",
            "Requirement already satisfied: six>=1.5 in /usr/local/lib/python3.10/dist-packages (from python-dateutil>=2.7->matplotlib->hawp==1.0) (1.16.0)\n",
            "Requirement already satisfied: MarkupSafe>=2.0 in /usr/local/lib/python3.10/dist-packages (from jinja2->torch->hawp==1.0) (2.1.3)\n",
            "Requirement already satisfied: charset-normalizer<4,>=2 in /usr/local/lib/python3.10/dist-packages (from requests->torchvision->hawp==1.0) (3.3.0)\n",
            "Requirement already satisfied: idna<4,>=2.5 in /usr/local/lib/python3.10/dist-packages (from requests->torchvision->hawp==1.0) (3.4)\n",
            "Requirement already satisfied: urllib3<3,>=1.21.1 in /usr/local/lib/python3.10/dist-packages (from requests->torchvision->hawp==1.0) (2.0.6)\n",
            "Requirement already satisfied: certifi>=2017.4.17 in /usr/local/lib/python3.10/dist-packages (from requests->torchvision->hawp==1.0) (2023.7.22)\n",
            "Requirement already satisfied: mpmath>=0.19 in /usr/local/lib/python3.10/dist-packages (from sympy->torch->hawp==1.0) (1.3.0)\n",
            "Installing collected packages: yacs, python-json-logger, hawp\n",
            "  Running setup.py develop for hawp\n",
            "Successfully installed hawp-1.0 python-json-logger-2.0.7 yacs-0.1.8\n",
            "Requirement already satisfied: opencv-python in /usr/local/lib/python3.10/dist-packages (from -r requirement.txt (line 1)) (4.8.0.76)\n",
            "Requirement already satisfied: cython in /usr/local/lib/python3.10/dist-packages (from -r requirement.txt (line 2)) (3.0.3)\n",
            "Requirement already satisfied: matplotlib in /usr/local/lib/python3.10/dist-packages (from -r requirement.txt (line 3)) (3.7.1)\n",
            "Requirement already satisfied: yacs in /usr/local/lib/python3.10/dist-packages (from -r requirement.txt (line 4)) (0.1.8)\n",
            "Requirement already satisfied: scikit-image in /usr/local/lib/python3.10/dist-packages (from -r requirement.txt (line 5)) (0.19.3)\n",
            "Requirement already satisfied: tqdm in /usr/local/lib/python3.10/dist-packages (from -r requirement.txt (line 6)) (4.66.1)\n",
            "Requirement already satisfied: python-json-logger in /usr/local/lib/python3.10/dist-packages (from -r requirement.txt (line 7)) (2.0.7)\n",
            "Requirement already satisfied: h5py in /usr/local/lib/python3.10/dist-packages (from -r requirement.txt (line 8)) (3.9.0)\n",
            "Requirement already satisfied: shapely in /usr/local/lib/python3.10/dist-packages (from -r requirement.txt (line 9)) (2.0.1)\n",
            "Collecting pycolmap (from -r requirement.txt (line 10))\n",
            "  Downloading pycolmap-0.4.0-cp310-cp310-manylinux2014_x86_64.whl (14.4 MB)\n",
            "\u001b[2K     \u001b[90m━━━━━━━━━━━━━━━━━━━━━━━━━━━━━━━━━━━━━━━━\u001b[0m \u001b[32m14.4/14.4 MB\u001b[0m \u001b[31m66.7 MB/s\u001b[0m eta \u001b[36m0:00:00\u001b[0m\n",
            "\u001b[?25hRequirement already satisfied: seaborn in /usr/local/lib/python3.10/dist-packages (from -r requirement.txt (line 11)) (0.12.2)\n",
            "Collecting kornia (from -r requirement.txt (line 12))\n",
            "  Downloading kornia-0.7.0-py2.py3-none-any.whl (705 kB)\n",
            "\u001b[2K     \u001b[90m━━━━━━━━━━━━━━━━━━━━━━━━━━━━━━━━━━━━━━\u001b[0m \u001b[32m705.7/705.7 kB\u001b[0m \u001b[31m53.1 MB/s\u001b[0m eta \u001b[36m0:00:00\u001b[0m\n",
            "\u001b[?25hRequirement already satisfied: easydict in /usr/local/lib/python3.10/dist-packages (from -r requirement.txt (line 13)) (1.10)\n",
            "Requirement already satisfied: numpy>=1.21.2 in /usr/local/lib/python3.10/dist-packages (from opencv-python->-r requirement.txt (line 1)) (1.23.5)\n",
            "Requirement already satisfied: contourpy>=1.0.1 in /usr/local/lib/python3.10/dist-packages (from matplotlib->-r requirement.txt (line 3)) (1.1.1)\n",
            "Requirement already satisfied: cycler>=0.10 in /usr/local/lib/python3.10/dist-packages (from matplotlib->-r requirement.txt (line 3)) (0.12.1)\n",
            "Requirement already satisfied: fonttools>=4.22.0 in /usr/local/lib/python3.10/dist-packages (from matplotlib->-r requirement.txt (line 3)) (4.43.1)\n",
            "Requirement already satisfied: kiwisolver>=1.0.1 in /usr/local/lib/python3.10/dist-packages (from matplotlib->-r requirement.txt (line 3)) (1.4.5)\n",
            "Requirement already satisfied: packaging>=20.0 in /usr/local/lib/python3.10/dist-packages (from matplotlib->-r requirement.txt (line 3)) (23.2)\n",
            "Requirement already satisfied: pillow>=6.2.0 in /usr/local/lib/python3.10/dist-packages (from matplotlib->-r requirement.txt (line 3)) (9.4.0)\n",
            "Requirement already satisfied: pyparsing>=2.3.1 in /usr/local/lib/python3.10/dist-packages (from matplotlib->-r requirement.txt (line 3)) (3.1.1)\n",
            "Requirement already satisfied: python-dateutil>=2.7 in /usr/local/lib/python3.10/dist-packages (from matplotlib->-r requirement.txt (line 3)) (2.8.2)\n",
            "Requirement already satisfied: PyYAML in /usr/local/lib/python3.10/dist-packages (from yacs->-r requirement.txt (line 4)) (6.0.1)\n",
            "Requirement already satisfied: scipy>=1.4.1 in /usr/local/lib/python3.10/dist-packages (from scikit-image->-r requirement.txt (line 5)) (1.11.3)\n",
            "Requirement already satisfied: networkx>=2.2 in /usr/local/lib/python3.10/dist-packages (from scikit-image->-r requirement.txt (line 5)) (3.1)\n",
            "Requirement already satisfied: imageio>=2.4.1 in /usr/local/lib/python3.10/dist-packages (from scikit-image->-r requirement.txt (line 5)) (2.31.5)\n",
            "Requirement already satisfied: tifffile>=2019.7.26 in /usr/local/lib/python3.10/dist-packages (from scikit-image->-r requirement.txt (line 5)) (2023.9.26)\n",
            "Requirement already satisfied: PyWavelets>=1.1.1 in /usr/local/lib/python3.10/dist-packages (from scikit-image->-r requirement.txt (line 5)) (1.4.1)\n",
            "Requirement already satisfied: pandas>=0.25 in /usr/local/lib/python3.10/dist-packages (from seaborn->-r requirement.txt (line 11)) (1.5.3)\n",
            "Requirement already satisfied: torch>=1.9.1 in /usr/local/lib/python3.10/dist-packages (from kornia->-r requirement.txt (line 12)) (2.0.1+cu118)\n",
            "Requirement already satisfied: pytz>=2020.1 in /usr/local/lib/python3.10/dist-packages (from pandas>=0.25->seaborn->-r requirement.txt (line 11)) (2023.3.post1)\n",
            "Requirement already satisfied: six>=1.5 in /usr/local/lib/python3.10/dist-packages (from python-dateutil>=2.7->matplotlib->-r requirement.txt (line 3)) (1.16.0)\n",
            "Requirement already satisfied: filelock in /usr/local/lib/python3.10/dist-packages (from torch>=1.9.1->kornia->-r requirement.txt (line 12)) (3.12.4)\n",
            "Requirement already satisfied: typing-extensions in /usr/local/lib/python3.10/dist-packages (from torch>=1.9.1->kornia->-r requirement.txt (line 12)) (4.5.0)\n",
            "Requirement already satisfied: sympy in /usr/local/lib/python3.10/dist-packages (from torch>=1.9.1->kornia->-r requirement.txt (line 12)) (1.12)\n",
            "Requirement already satisfied: jinja2 in /usr/local/lib/python3.10/dist-packages (from torch>=1.9.1->kornia->-r requirement.txt (line 12)) (3.1.2)\n",
            "Requirement already satisfied: triton==2.0.0 in /usr/local/lib/python3.10/dist-packages (from torch>=1.9.1->kornia->-r requirement.txt (line 12)) (2.0.0)\n",
            "Requirement already satisfied: cmake in /usr/local/lib/python3.10/dist-packages (from triton==2.0.0->torch>=1.9.1->kornia->-r requirement.txt (line 12)) (3.27.6)\n",
            "Requirement already satisfied: lit in /usr/local/lib/python3.10/dist-packages (from triton==2.0.0->torch>=1.9.1->kornia->-r requirement.txt (line 12)) (17.0.2)\n",
            "Requirement already satisfied: MarkupSafe>=2.0 in /usr/local/lib/python3.10/dist-packages (from jinja2->torch>=1.9.1->kornia->-r requirement.txt (line 12)) (2.1.3)\n",
            "Requirement already satisfied: mpmath>=0.19 in /usr/local/lib/python3.10/dist-packages (from sympy->torch>=1.9.1->kornia->-r requirement.txt (line 12)) (1.3.0)\n",
            "Installing collected packages: pycolmap, kornia\n",
            "Successfully installed kornia-0.7.0 pycolmap-0.4.0\n",
            "True\n"
          ]
        }
      ]
    },
    {
      "cell_type": "code",
      "source": [
        "!python -m hawp.ssl.predict --ckpt hawpv3-imagenet-03a84.pth --threshold 0.05 --img 33044.jpg --device='cuda'"
      ],
      "metadata": {
        "colab": {
          "base_uri": "https://localhost:8080/"
        },
        "id": "L9bKuYbasvty",
        "outputId": "bc874fff-5c43-4bd9-be7d-5377972a15d0"
      },
      "execution_count": null,
      "outputs": [
        {
          "output_type": "stream",
          "name": "stdout",
          "text": [
            "  0% 0/1 [00:00<?, ?it/s]Figure(1400x2097.82)\n",
            "100% 1/1 [00:06<00:00,  6.81s/it]\n"
          ]
        }
      ]
    },
    {
      "cell_type": "markdown",
      "source": [
        "sam环境配置\n",
        "https://github.com/facebookresearch/segment-anything#model-checkpoints"
      ],
      "metadata": {
        "id": "j6iEX2j6tt0X"
      }
    },
    {
      "cell_type": "code",
      "source": [
        "!pip install git+https://github.com/facebookresearch/segment-anything.git"
      ],
      "metadata": {
        "id": "m_XPJwBKsvub"
      },
      "execution_count": null,
      "outputs": []
    },
    {
      "cell_type": "code",
      "source": [
        "!pip install opencv-python pycocotools matplotlib onnxruntime onnx"
      ],
      "metadata": {
        "id": "D4eh7pDAsvxT"
      },
      "execution_count": null,
      "outputs": []
    },
    {
      "cell_type": "markdown",
      "source": [
        "sam&&hawp"
      ],
      "metadata": {
        "id": "WXLPOfVNt8EF"
      }
    }
  ]
}